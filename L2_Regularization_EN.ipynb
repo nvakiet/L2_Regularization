{
 "cells": [
  {
   "cell_type": "markdown",
   "metadata": {},
   "source": [
    "### **Introduction to Machine Learning Final Open Test**\n",
    "- Student ID: 19127191\n",
    "- Student name: Ngo Van Anh Kiet\n",
    "- Class: 19KHMT"
   ]
  },
  {
   "cell_type": "markdown",
   "metadata": {},
   "source": [
    "#### 1. Import necessary packages"
   ]
  },
  {
   "cell_type": "code",
   "execution_count": 1,
   "metadata": {},
   "outputs": [],
   "source": [
    "import numpy as np\n",
    "from matplotlib import pyplot as plt\n",
    "from sklearn.datasets import make_circles\n",
    "from sklearn.metrics import classification_report\n",
    "from dataclasses import dataclass\n",
    "# To run gradient descent on the cost function optimally\n",
    "from scipy import optimize\n",
    "from scipy.special import expit"
   ]
  },
  {
   "cell_type": "markdown",
   "metadata": {},
   "source": [
    "#### 2. The concept of overfitting\n",
    "Overfitting is a phenomenal in machine learning where a learning model fits too much to the training set, which causes the model to lose its generalizability and flexibility. This can lead to incorrect predictions when the model meets some new data it has never seen before.\n",
    "There are many reasons for overfitting, for examples:\n",
    "- There's not enough training data;\n",
    "- The training the data isn't diverse;\n",
    "- The learning model is too complex;\n",
    "- Redundant features are used in the training process.\n",
    "\n",
    "Nowadays, many machine learning models have to worry about overfitting and implement many ways to handle this problem. This report introduces one of the popular methods to reduce overfitting that is the L2 Regularization technique. To be specific, The report will show how this regularization technique can be applied in the Logistic Regression algorithm used for classification problems."
   ]
  },
  {
   "cell_type": "markdown",
   "metadata": {},
   "source": [
    "#### 3. A classification problem\n",
    "Suppose we have a dataset with 100 samples, each sample has 2 features: $X_1$ and $X_2$, along with a label $y$, which can have the values 0 or 1 (true or false). This is a binary classification problem often seen in many real-life situations. We can use a logistic regression model to solve this problem.\n",
    "\n",
    "First of all, let's create a random toy dataset to illustrate the problem."
   ]
  },
  {
   "cell_type": "code",
   "execution_count": 2,
   "metadata": {},
   "outputs": [
    {
     "name": "stdout",
     "output_type": "stream",
     "text": [
      "X: (100, 2)\n",
      "y: (100,)\n",
      "Sample X[0]: [-0.17246763 -0.55817206]\n",
      "Sample y[0]: 1\n"
     ]
    }
   ],
   "source": [
    "# Random dataset of 100 samples with binary labels\n",
    "X, y = make_circles(100, noise=0.15, factor=0.5, random_state=42)\n",
    "print(\"X:\", X.shape)\n",
    "print(\"y:\", y.shape)\n",
    "print(\"Sample X[0]:\", X[0])\n",
    "print(\"Sample y[0]:\", y[0])"
   ]
  },
  {
   "cell_type": "markdown",
   "metadata": {},
   "source": [
    "We can visualize the dataset on a scatter plot to see how the decision boundary (the line which separates the data points by their labels) might look like."
   ]
  },
  {
   "cell_type": "code",
   "execution_count": 3,
   "metadata": {},
   "outputs": [],
   "source": [
    "def plotData(X, y, ax):\n",
    "    \"\"\"Plot the data points X with labels y into a figure/subplot. The symbol '*' is for positive samples and 'o' is for the negative samples.\n",
    "\n",
    "    Args:\n",
    "        X (array_like): An M x 2 matrix representing the dataset features.\n",
    "        y (array_like): Label values for the dataset. A vector of size M x 1.\n",
    "        ax: The subplot to plot the data on\n",
    "    \"\"\"\n",
    "    \n",
    "    # Find indices of positive and negative samples\n",
    "    pos = y == 1\n",
    "    neg = y == 0\n",
    "    \n",
    "    # Plot the samples\n",
    "    ax.plot(X[pos, 0], X[pos, 1], 'k*', lw=2, ms=10)\n",
    "    ax.plot(X[neg, 0], X[neg, 1], 'ko', mfc='y', ms=8, mec='k', mew=1)"
   ]
  },
  {
   "cell_type": "code",
   "execution_count": 5,
   "metadata": {},
   "outputs": [
    {
     "data": {
      "image/png": "[encoded data removed]",
      "text/plain": [
       "<Figure size 432x288 with 1 Axes>"
      ]
     },
     "metadata": {
      "needs_background": "light"
     },
     "output_type": "display_data"
    }
   ],
   "source": [
    "# Plot the data on a scatter plot using plotData function\n",
    "fig, ax = plt.subplots()\n",
    "plotData(X, y, ax)\n",
    "# Set labels and legend for the plot\n",
    "ax.set(xlabel=\"Feature X_1\", ylabel=\"Feature X_2\")\n",
    "ax.legend([\"y = 1\", \"y = 0\"], loc=\"upper right\")\n",
    "plt.show()"
   ]
  },
  {
   "cell_type": "markdown",
   "metadata": {},
   "source": [
    "As we can see, the decision boundary must have a shape similar to a circle, so that the positive samples are inside the circle while the negative ones are outside.  \n",
    "Clearly, this decision boudary can't be fitted linearly with just 2 features. Usually, some feature engineering can be done to create new features for the dataset. Here we'll use the Feature Mapping technique to map the dataset from the original 2 features to quadratic features up to the 8th polynomial degree."
   ]
  },
  {
   "cell_type": "code",
   "execution_count": 8,
   "metadata": {},
   "outputs": [],
   "source": [
    "def mapFeature(X1, X2, degree=6):\n",
    "    \"\"\"Map the two input features to quadratic features.\n",
    "    \n",
    "    Return a new dataset with more features, comprising of:\n",
    "    X1, X2, X1^2, X2^2, X1*X2, X1*X2^2,...\n",
    "\n",
    "    Args:\n",
    "        X1 (array_like): A vector of shape (m, 1) containing the first feature.\n",
    "        \n",
    "        X2 (array_like): A vector of shape (m, 1) containing the second feature. X1 and X2 must be the same size.\n",
    "        \n",
    "        degree (int, optional): The polynomial degree. Defaults to 6.\n",
    "    \"\"\"\n",
    "    if X1.ndim > 0:\n",
    "        out = [np.ones(X1.shape[0])]\n",
    "    else:\n",
    "        out = [np.ones(1)]\n",
    "        \n",
    "    for i in range(1, degree + 1):\n",
    "        for j in range(i + 1):\n",
    "            out.append((X1 ** (i - j)) * (X2 ** j))\n",
    "            \n",
    "    if X1.ndim > 0:\n",
    "        return np.stack(out, axis=1)\n",
    "    else:\n",
    "        return np.array(out)"
   ]
  },
  {
   "cell_type": "code",
   "execution_count": 9,
   "metadata": {},
   "outputs": [
    {
     "name": "stdout",
     "output_type": "stream",
     "text": [
      "Shape of X: (100, 45)\n",
      "Sample X[0]: [ 1.00000000e+00 -1.72467631e-01 -5.58172063e-01  2.97450838e-02\n",
      "  9.62666135e-02  3.11556052e-01 -5.13006415e-03 -1.66028748e-02\n",
      " -5.37333343e-02 -1.73901884e-01  8.84770012e-04  2.86345849e-03\n",
      "  9.26726088e-03  2.99924460e-02  9.70671735e-02 -1.52594188e-04\n",
      " -4.93853903e-04 -1.59830253e-03 -5.17272612e-03 -1.67409455e-02\n",
      " -5.41801845e-02  2.63175582e-05  8.51738128e-05  2.75655452e-04\n",
      "  8.92127822e-04  2.88727121e-03  9.34432808e-03  3.02418654e-02\n",
      " -4.53892692e-06 -1.46897257e-05 -4.75416428e-05 -1.53863172e-04\n",
      " -4.97960827e-04 -1.61159413e-03 -5.21574288e-03 -1.68801644e-02\n",
      "  7.82817974e-07  2.53350220e-06  8.19939452e-06  2.65364168e-05\n",
      "  8.58821242e-05  2.77947822e-04  8.99546820e-04  2.91128196e-03\n",
      "  9.42203617e-03]\n"
     ]
    }
   ],
   "source": [
    "X = mapFeature(X[:, 0], X[:, 1], 8)\n",
    "print(\"Shape of X:\", X.shape)\n",
    "print(\"Sample X[0]:\", X[0])"
   ]
  },
  {
   "cell_type": "markdown",
   "metadata": {},
   "source": [
    "So the dataset has been mapped from 2 features to 45 features. Surely with this new training data, our model can fit quite well to the complex shape of the decision boundary. However, as mentioned before, one of the reasons for overfitting is using redundant features in the training process. Since we now have so many features, overfitting is unavoidable. Thus, we can apply the L2 regularization technique to reduce overfitting in the logistic regression model."
   ]
  },
  {
   "cell_type": "markdown",
   "metadata": {},
   "source": [
    "#### 4. L2 Regularization\n",
    "Let's review the sigmoid function, loss function and gradient function in logistic regression:\n",
    "- Sigmoid function: $$sigmoid(x)=\\frac{1}{1+e^{-x}}$$\n",
    "- Loss function:\n",
    "$$\n",
    "J(\\theta)= \\frac{1}{m} \\sum_{i=1}^{m} \\left[\n",
    "    -y^{(i)} log \\left(\n",
    "        h_\\theta(x^{(i)})\n",
    "    \\right)\n",
    "    - (1-y^{(i)}) log \\left(\n",
    "        1-h_\\theta(x^{(i)})\n",
    "    \\right)\n",
    "\\right]\n",
    "$$\n",
    "- Gradient function:\n",
    "$$\n",
    "\\frac{\\partial J(\\theta)}{\\partial \\theta_j} = \\frac{1}{m} \\sum_{i=1}^{m}\n",
    "\\left(\n",
    "    h_\\theta(x^{(i)}) - y^{(i)}\n",
    "\\right)\n",
    "x_{j}^{(i)}\n",
    "$$"
   ]
  },
  {
   "cell_type": "markdown",
   "metadata": {},
   "source": [
    "**So what is L2 regularization, and how is it applied to reduce overfitting?**  \n",
    "L2 regularization is a technique to reduce overfitting in machine learning fields like regression or neural networks. In regression, it's called *Ridge Regression*, while in neural networks, it's also known as *Weight Decay*.  \n",
    "This technique is actually just a new term added into the original loss function and gradient function:  \n",
    "- Loss function:\n",
    "$$\n",
    "J(\\theta)= \\frac{1}{m} \\sum_{i=1}^{m} \\left[\n",
    "    -y^{(i)} log \\left(\n",
    "        h_\\theta(x^{(i)})\n",
    "    \\right)\n",
    "    - (1-y^{(i)}) log \\left(\n",
    "        1-h_\\theta(x^{(i)})\n",
    "    \\right)\n",
    "\\right] + \\frac{\\lambda}{2m} \\sum_{j=1}^{n} \\theta_{j}^2\n",
    "$$\n",
    "- Gradient function:\n",
    "$$\n",
    "\\frac{\\partial J(\\theta)}{\\partial \\theta_j} = \\frac{1}{m} \\sum_{i=1}^{m}\n",
    "\\left(\n",
    "    h_\\theta(x^{(i)}) - y^{(i)}\n",
    "\\right)\n",
    "x_{j}^{(i)} \\quad \\text{for } j=0\n",
    "$$\n",
    "\n",
    "$$\n",
    "\\frac{\\partial J(\\theta)}{\\partial \\theta_j} = \\left[\n",
    "    \\frac{1}{m} \\sum_{i=1}^{m}\n",
    "    \\left(\n",
    "        h_\\theta(x^{(i)}) - y^{(i)}\n",
    "    \\right)\n",
    "    x_{j}^{(i)}\n",
    "\\right] + \\frac{\\lambda}{m} \\theta_j \\quad \\text{for } j \\geq 1\n",
    "$$\n",
    "\n",
    "$$ \\text{where } \\lambda \\text{ is the hyperparameter to be tuned by a machine learning engineer.} $$"
   ]
  },
  {
   "cell_type": "markdown",
   "metadata": {},
   "source": [
    "The basic idea of L2 regularization is to turn down the weights of features which can heavily affect the model performance while it's doing Gradient Descent. These features is the main reason that cause overfitting. What the added term in the above formulas means is after an iteration of Gradient Descent, the stronger a feature is, the more its weight gets reduced. However, the regularized weights don't disappear completely, they just approach very close to 0. And so with just a slight modification to the original loss function, L2 regularization helps balancing the effectiveness of the data features, which in turn help to reduce overfitting.  \n",
    "\n",
    "An important thing to notice is that the regularization isn't applied on the weight value $\\theta_0$ (as mentioned in the above Gradient function formula), because it's actually the bias value of the model, not the weight of a feature in the training data.  \n",
    "\n",
    "Now let's create a logistic regression model applying the L2 regularization technique to perform classifcation on the toy dataset. We just need to make the loss function and gradient function, then the minimize() function from the scipy.optimize package can handle the gradient descent. For the Sigmoid function, we can use the scipy.special.expit() function since it's better optimized for some special cases."
   ]
  },
  {
   "cell_type": "code",
   "execution_count": 1,
   "metadata": {},
   "outputs": [],
   "source": [
    "def l2_loss(theta, X, y, lambda_):\n",
    "    \"\"\"Compute loss and gradient for logistic regression with L2 regularization.\n",
    "\n",
    "    Args:\n",
    "        theta (array_like): Logistic regression weights to be trained.\n",
    "            A vector with shape (n,1), where n is the number of features including any intercept. If we have mapped our initial features into polynomial features, then n is the total number of polynomial features.\n",
    "        \n",
    "        X (array_like): The dataset features with shape (m,n), where m is the number of samples and n is the number of features after feature mapping.\n",
    "        \n",
    "        y (array_like): The data labels, a vector with shape (m,1).\n",
    "        \n",
    "        lambda_ (float): The regularization hyperparameter.\n",
    "        \n",
    "    Returns:\n",
    "        J (float): The computed value for the regularized loss function.\n",
    "        \n",
    "        grad (array_like): A vector of shape (n,1) which is the gradients of the loss function with respect to theta, at the current values of theta.\n",
    "    \"\"\"\n",
    "    # Initialize some useful values\n",
    "    m = y.shape[0] # number of training samples\n",
    "    J = 0\n",
    "    grad = np.zeros(theta.shape)\n",
    "    epsilon = 1e-5 # To fix when the input of log function is too small that it becomes 0\n",
    "    \n",
    "    # Calculate sigmoid hypothesis\n",
    "    h = expit(X @ theta)\n",
    "    # Temporarily replace theta_0 with 0 to avoid regularization on the intercept/bias value\n",
    "    theta_0 = theta[0]\n",
    "    theta[0] = 0\n",
    "    \n",
    "    # Calculate loss value J and gradient\n",
    "    regTerm = (lambda_ / (2.0 * m)) * np.sum(theta ** 2)\n",
    "    J = (-1.0 * np.transpose(y) @ np.log(h + epsilon) - np.transpose(1.0 - y) @ np.log(1.0 - h + epsilon)) / m\n",
    "    J += regTerm\n",
    "    grad = (X.T @ (h - y)) / m + (lambda_ * theta) / m\n",
    "    \n",
    "    # Restore the original theta_0\n",
    "    theta[0] = theta_0\n",
    "    return J, grad"
   ]
  },
  {
   "cell_type": "markdown",
   "metadata": {},
   "source": [
    "Now that we have a function to calculate the loss and gradient at each descent step. Let's optimize a model."
   ]
  },
  {
   "cell_type": "code",
   "execution_count": null,
   "metadata": {},
   "outputs": [],
   "source": [
    "# A dataclass to save the trained model\n",
    "@dataclass\n",
    "class Model:\n",
    "    cost: float\n",
    "    theta: np.ndarray\n",
    "    \n",
    "    def predict(self, X) -> np.ndarray:\n",
    "        p = expit(X @ self.theta.T) >= 0.5\n",
    "        return p"
   ]
  },
  {
   "cell_type": "code",
   "execution_count": null,
   "metadata": {},
   "outputs": [],
   "source": [
    "def fit(X, y, lambda_, iterations, minimize_method=\"TNC\"):\n",
    "    \"\"\"Fit a logistic regression model using the training data with L2 regularization.\n",
    "\n",
    "    Args:\n",
    "        X (array_like): The feature matrix of the training data.\n",
    "        \n",
    "        y (array_like): The label vector of the training data.\n",
    "        \n",
    "        lambda_ (float): The hyperparameter for tuning the L2 regularization, minimum is 0.\n",
    "        \n",
    "        iterations (int): Maximum number of iterations for the fitting process.\n",
    "        \n",
    "        minimize_method (str, optional): The method to fit the data. Defaults to \"TNC\". (See the documentations of scipy.optimize.minimize for available methods)\n",
    "        \n",
    "    Returns (Model):\n",
    "        A trained model with these attributes:\n",
    "        - cost (float): value of the loss function at the optimized theta\n",
    "        - theta (array_like): the optimized theta\n",
    "    \"\"\"\n",
    "    # Initialize fitting parameters\n",
    "    initial_theta = np.zeros(X.shape[1])\n",
    "    if lambda_ < 0:\n",
    "        lambda_ = 0\n",
    "        \n",
    "    # Set options for the minimize function\n",
    "    options = {\n",
    "        \"maxiter\": iterations\n",
    "    }\n",
    "    \n",
    "    res = optimize.minimize(l2_loss,\n",
    "                            initial_theta,\n",
    "                            (X, y, lambda_),\n",
    "                            jac=True,\n",
    "                            method=minimize_method\n",
    "                            options=options)\n",
    "    \n",
    "    # The \"fun\" property of OptimizeResult object returns:\n",
    "    #   fun: the value of loss function at optimized theta\n",
    "    #   x: the optimized theta\n",
    "    return Model(res.fun, res.x)"
   ]
  }
 ],
 "metadata": {
  "kernelspec": {
   "display_name": "Python 3.9.7 ('myenv')",
   "language": "python",
   "name": "python3"
  },
  "language_info": {
   "codemirror_mode": {
    "name": "ipython",
    "version": 3
   },
   "file_extension": ".py",
   "mimetype": "text/x-python",
   "name": "python",
   "nbconvert_exporter": "python",
   "pygments_lexer": "ipython3",
   "version": "3.9.7"
  },
  "orig_nbformat": 4,
  "vscode": {
   "interpreter": {
    "hash": "0f949023e22fc223d05ff4ad0c4b77cb805b04951b38b35fe9c48ac03e4aa352"
   }
  }
 },
 "nbformat": 4,
 "nbformat_minor": 2
}
